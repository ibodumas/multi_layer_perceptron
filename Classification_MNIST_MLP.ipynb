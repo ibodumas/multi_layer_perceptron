{
 "cells": [
  {
   "cell_type": "markdown",
   "metadata": {},
   "source": [
    "# Multi-Layer Perceptron"
   ]
  },
  {
   "cell_type": "markdown",
   "metadata": {},
   "source": [
    "# Problems Identification: \n",
    "\n",
    "This project involves the implementation of efficient and effective MLP on MNIST data set. The MNIST data comprises of digital images of several digits ranging from 0 to 9. Each image is 28 x 28 pixels. Thus, the data set has 10 levels of classes."
   ]
  },
  {
   "cell_type": "markdown",
   "metadata": {},
   "source": [
    "These are the needed packages:"
   ]
  },
  {
   "cell_type": "code",
   "execution_count": 125,
   "metadata": {
    "collapsed": true
   },
   "outputs": [],
   "source": [
    "import winsound\n",
    "import matplotlib.pyplot as plt\n",
    "plt.rcdefaults()\n",
    "import warnings\n",
    "warnings.filterwarnings(\"ignore\", category=DeprecationWarning)\n",
    "warnings.simplefilter('ignore')\n",
    "from sklearn.model_selection import ParameterGrid\n",
    "from sklearn.metrics import confusion_matrix, accuracy_score\n",
    "from sklearn.svm import SVC, LinearSVC\n",
    "from mnist import MNIST\n",
    "from time import time\n",
    "import matplotlib.pyplot as plt\n",
    "plt.rcdefaults()\n",
    "from IPython.display import display\n",
    "from pylab import subplot\n",
    "import pandas as pd\n",
    "import numpy as np\n",
    "import os\n",
    "import random as rand\n",
    "import pylab as pl\n",
    "from sklearn.neural_network import MLPClassifier\n",
    "from sklearn.model_selection import StratifiedKFold, GridSearchCV"
   ]
  },
  {
   "cell_type": "markdown",
   "metadata": {},
   "source": [
    "Load the dataset, having downloaded it from Yann. The train data set comprises of 60,000 samples and the test data set has 10,000 samples."
   ]
  },
  {
   "cell_type": "code",
   "execution_count": 2,
   "metadata": {
    "collapsed": true
   },
   "outputs": [],
   "source": [
    "__mndata__ = MNIST(os.getcwd() +'\\\\image')\n",
    "__train_image__, __train_label__ = __mndata__.load_training() #train & train_label\n",
    "__test_image__, __test_label__ = __mndata__.load_testing() #test & test_label"
   ]
  },
  {
   "cell_type": "markdown",
   "metadata": {},
   "source": [
    "The train and test images were reshaped to 784 dimension long, which translate to one feature for each pixel in the image."
   ]
  },
  {
   "cell_type": "markdown",
   "metadata": {},
   "source": [
    "### Visualization:\n",
    "Visualizing a random 28 by 28 image."
   ]
  },
  {
   "cell_type": "code",
   "execution_count": 8,
   "metadata": {},
   "outputs": [
    {
     "data": {
      "image/png": "[encoded data removed]",
      "text/plain": [
       "<matplotlib.figure.Figure at 0x14df1f46b38>"
      ]
     },
     "metadata": {},
     "output_type": "display_data"
    }
   ],
   "source": [
    "plt.imshow(np.reshape(__train_image__[rand.randint(1,1000)], [28,28]), cmap='Greys_r'); plt.title('Visualizing a random sample'); plt.show()"
   ]
  },
  {
   "cell_type": "markdown",
   "metadata": {},
   "source": [
    "### Implementation functions:"
   ]
  },
  {
   "cell_type": "code",
   "execution_count": 1,
   "metadata": {
    "collapsed": true
   },
   "outputs": [],
   "source": [
    "class Utility:\n",
    "    \"\"\"This class warehouses the data and other general functions\"\"\"\n",
    "    def __init__(self):\n",
    "        self.train = np.asarray([np.reshape(x, (784)) for x in __train_image__]).astype(\n",
    "            'float64')  # change train_image to numpy array #784 means 28 by 28 pixel\n",
    "        self.train_label = np.asarray(__train_label__)\n",
    "        self.test = np.asarray([np.reshape(x, (784)) for x in __test_image__]).astype(\n",
    "            'float64')  # change test_image to numpy array\n",
    "        self.test_label = np.asarray(__test_label__)\n",
    "        self.n_class = list(range(10))  # class labels\n",
    "\n",
    "    def mutiplePlot(xValue, yValues, legend, title, xLabel, yLabel, color):\n",
    "        plt.subplots(figsize=(10, 5))\n",
    "        for i in range(len(yValues)):\n",
    "            plt.semilogx(xValue, yValues[i], '-gD', label=legend[i], color=color[i])\n",
    "        plt.xlabel(xLabel)\n",
    "        plt.ylabel(yLabel)\n",
    "        plt.grid(True)\n",
    "        plt.legend()\n",
    "        plt.title(title)\n",
    "        plt.show()\n",
    "\n",
    "    def plot(xValues, yValue, xlabel, ylabel, title, semilogx=False, semilogy=False, xtick=False):\n",
    "        yValue = np.round(yValue, 4)\n",
    "        plt.figure(figsize=(12,5))\n",
    "        if semilogx:\n",
    "            plt.semilogx(xValues, yValue, '-gD', color='black')\n",
    "        elif semilogy:\n",
    "            plt.semilogy(xValues, yValue, '-gD', color='black')\n",
    "        else:\n",
    "            plt.plot(xValues, yValue, '-gD', color='black')\n",
    "            \n",
    "        ax = subplot(111)\n",
    "        plt.xticks(xValues)\n",
    "        if xtick:\n",
    "            ax.set_xticks(xValues, xValues)\n",
    "        plt.ylabel(ylabel)\n",
    "        plt.xlabel(xlabel)\n",
    "        plt.title(title)\n",
    "        plt.show()\n",
    "\n",
    "    def sound_notifier():\n",
    "        winsound.Beep(1000, 10000)\n",
    "\n",
    "# End of Class Utility\n",
    "\n",
    "class Model:\n",
    "    '''This class warehouses functions for various models'''\n",
    "    def __init__(self, train, train_lb, test, test_lb, k_fold_cv=None, live=True):\n",
    "        '''\n",
    "        :param train: X train\n",
    "        :param train_lb: y train\n",
    "        :param test: X test\n",
    "        :param test_lb: y test\n",
    "        :param k_fold_cv: number of folds for cross validation\n",
    "        '''\n",
    "        self.train = train\n",
    "        self.train_lb = train_lb\n",
    "        self.test = test\n",
    "        self.test_lb = test_lb\n",
    "        self.kfold = k_fold_cv\n",
    "        self.live = live\n",
    "        \n",
    "    def mlp(self, alpha, solver):\n",
    "        param_grid = ParameterGrid(dict(alpha=alpha, solver=solver))\n",
    "        self.df = pd.DataFrame.from_dict(list(param_grid))\n",
    "        self.df['train_acc'], self.df['test_acc'] = None, None\n",
    "        t = time()\n",
    "        self.model_param, self.test_pred, self.time = [], [], []\n",
    "\n",
    "        for i, grid in enumerate(param_grid):\n",
    "            st_tim = time()\n",
    "            model = MLPClassifier(learning_rate_init=0.1, random_state=1)\n",
    "            set_param = model.set_params(**grid)\n",
    "            model_fit = model.fit(self.train, self.train_lb)\n",
    "            self.time.append(time() - st_tim)\n",
    "            self.model_param.append(model_fit)\n",
    "            self.df['train_acc'][i] = model_fit.score(self.train, self.train_lb)\n",
    "            pred = model_fit.predict(self.test)\n",
    "            self.test_pred.append(pred)\n",
    "            self.df['test_acc'][i] = accuracy_score(self.test_lb, pred)\n",
    "\n",
    "        self.time_all = time() - t\n",
    "        if not self.live:\n",
    "            Utility.sound_notifier()\n",
    "            \n",
    "    def mlp_2(self, nodes, alpha, solver):\n",
    "        param_grid = ParameterGrid(dict(hidden_layer_sizes=nodes))\n",
    "        self.df = pd.DataFrame.from_dict(list(param_grid))\n",
    "        self.df['train_acc'], self.df['test_acc'] = None, None\n",
    "        t = time()\n",
    "        self.model_param, self.test_pred, self.time = [], [], []\n",
    "\n",
    "        for i, grid in enumerate(param_grid):\n",
    "            st_tim = time()\n",
    "            model = MLPClassifier(learning_rate_init=0.1, random_state=1, alpha=alpha, solver=solver)\n",
    "            set_param = model.set_params(**grid)\n",
    "            model_fit = model.fit(self.train, self.train_lb)\n",
    "            self.time.append(time() - st_tim)\n",
    "            self.model_param.append(model_fit)\n",
    "            self.df['train_acc'][i] = model_fit.score(self.train, self.train_lb)\n",
    "            pred = model_fit.predict(self.test)\n",
    "            self.test_pred.append(pred)\n",
    "            self.df['test_acc'][i] = accuracy_score(self.test_lb, pred)\n",
    "\n",
    "        self.time_all = time() - t\n",
    "        if not self.live:\n",
    "            Utility.sound_notifier()"
   ]
  },
  {
   "cell_type": "markdown",
   "metadata": {},
   "source": [
    "# Multi-Layer  (MLP)"
   ]
  },
  {
   "cell_type": "markdown",
   "metadata": {},
   "source": [
    "MLP is a supervised machine learning algorithm for regression or classification. Within the input and output, there might be some nonlinear layers, called hidden layers. Hence, MLP has the ability to learn nonlinear models. Each of the hidden layers comprises of neurons, which is the number of nodes in the hidden layer. MLP is sensitive to unscaled features, thus it might be important to scale the feature - [0, 1], hence the training and testing sets will be divided by 255.\n",
    "\n",
    "<u>Regularization in MLP</u>:<br>\n",
    "MLPClassifier in sklearn uses parameter alpha for regularization (L2 regularization) [1]. Alpha is used for penalizing the weights, hence, ensuring that the weights are as small as possible. GridsearchCV can be used to obtain the best value of alpha, values ranging from 1e-6 to 1e-1 (log scale) are mostly used [1].\n",
    "\n",
    "<u>Solver in MLP</u>:<br>\n",
    "In Sklearn, the solver for weight optimization could be any of 'lbfgs', 'sgd', or 'adam' [2]. SGD refers to stochastic gradient descent, it performs better than the other two [1]."
   ]
  },
  {
   "cell_type": "markdown",
   "metadata": {},
   "source": [
    "### Part A: Gridsearch over several values Alpha & Solver with default hidden layer"
   ]
  },
  {
   "cell_type": "markdown",
   "metadata": {},
   "source": [
    "For simplicity, one hidden layer with 100 nodes will be used. In part B, the number of nodes in the hidden layer will be varied with the best parameters in this section. learning_rate_init will be set at 0.1 for 'sgd' and 'adam' solvers for quicker convergence."
   ]
  },
  {
   "cell_type": "code",
   "execution_count": 4,
   "metadata": {
    "collapsed": true
   },
   "outputs": [],
   "source": [
    "util = Utility()\n",
    "alpha = [0.000001, 0.00001, 0.0001, 0.001, 0.01, 0.1]\n",
    "solver = ['lbfgs', 'adam', 'sgd']"
   ]
  },
  {
   "cell_type": "code",
   "execution_count": 5,
   "metadata": {
    "collapsed": true
   },
   "outputs": [],
   "source": [
    "model = Model(util.train/255, util.train_label, util.test/255, util.test_label, live=False)\n",
    "model.mlp(alpha, solver)"
   ]
  },
  {
   "cell_type": "code",
   "execution_count": 6,
   "metadata": {
    "scrolled": false
   },
   "outputs": [
    {
     "data": {
      "text/html": [
       "<div>\n",
       "<style>\n",
       "    .dataframe thead tr:only-child th {\n",
       "        text-align: right;\n",
       "    }\n",
       "\n",
       "    .dataframe thead th {\n",
       "        text-align: left;\n",
       "    }\n",
       "\n",
       "    .dataframe tbody tr th {\n",
       "        vertical-align: top;\n",
       "    }\n",
       "</style>\n",
       "<table border=\"1\" class=\"dataframe\">\n",
       "  <thead>\n",
       "    <tr style=\"text-align: right;\">\n",
       "      <th></th>\n",
       "      <th>alpha</th>\n",
       "      <th>solver</th>\n",
       "      <th>train_acc</th>\n",
       "      <th>test_acc</th>\n",
       "    </tr>\n",
       "  </thead>\n",
       "  <tbody>\n",
       "    <tr>\n",
       "      <th>0</th>\n",
       "      <td>0.000001</td>\n",
       "      <td>lbfgs</td>\n",
       "      <td>1</td>\n",
       "      <td>0.9766</td>\n",
       "    </tr>\n",
       "    <tr>\n",
       "      <th>1</th>\n",
       "      <td>0.000001</td>\n",
       "      <td>adam</td>\n",
       "      <td>0.901017</td>\n",
       "      <td>0.9009</td>\n",
       "    </tr>\n",
       "    <tr>\n",
       "      <th>2</th>\n",
       "      <td>0.000001</td>\n",
       "      <td>sgd</td>\n",
       "      <td>1</td>\n",
       "      <td>0.9792</td>\n",
       "    </tr>\n",
       "    <tr>\n",
       "      <th>3</th>\n",
       "      <td>0.000010</td>\n",
       "      <td>lbfgs</td>\n",
       "      <td>1</td>\n",
       "      <td>0.9765</td>\n",
       "    </tr>\n",
       "    <tr>\n",
       "      <th>4</th>\n",
       "      <td>0.000010</td>\n",
       "      <td>adam</td>\n",
       "      <td>0.8722</td>\n",
       "      <td>0.8724</td>\n",
       "    </tr>\n",
       "    <tr>\n",
       "      <th>5</th>\n",
       "      <td>0.000010</td>\n",
       "      <td>sgd</td>\n",
       "      <td>1</td>\n",
       "      <td>0.979</td>\n",
       "    </tr>\n",
       "    <tr>\n",
       "      <th>6</th>\n",
       "      <td>0.000100</td>\n",
       "      <td>lbfgs</td>\n",
       "      <td>1</td>\n",
       "      <td>0.9763</td>\n",
       "    </tr>\n",
       "    <tr>\n",
       "      <th>7</th>\n",
       "      <td>0.000100</td>\n",
       "      <td>adam</td>\n",
       "      <td>0.90065</td>\n",
       "      <td>0.8956</td>\n",
       "    </tr>\n",
       "    <tr>\n",
       "      <th>8</th>\n",
       "      <td>0.000100</td>\n",
       "      <td>sgd</td>\n",
       "      <td>1</td>\n",
       "      <td>0.9797</td>\n",
       "    </tr>\n",
       "    <tr>\n",
       "      <th>9</th>\n",
       "      <td>0.001000</td>\n",
       "      <td>lbfgs</td>\n",
       "      <td>1</td>\n",
       "      <td>0.9764</td>\n",
       "    </tr>\n",
       "    <tr>\n",
       "      <th>10</th>\n",
       "      <td>0.001000</td>\n",
       "      <td>adam</td>\n",
       "      <td>0.901183</td>\n",
       "      <td>0.903</td>\n",
       "    </tr>\n",
       "    <tr>\n",
       "      <th>11</th>\n",
       "      <td>0.001000</td>\n",
       "      <td>sgd</td>\n",
       "      <td>1</td>\n",
       "      <td>0.9794</td>\n",
       "    </tr>\n",
       "    <tr>\n",
       "      <th>12</th>\n",
       "      <td>0.010000</td>\n",
       "      <td>lbfgs</td>\n",
       "      <td>1</td>\n",
       "      <td>0.9771</td>\n",
       "    </tr>\n",
       "    <tr>\n",
       "      <th>13</th>\n",
       "      <td>0.010000</td>\n",
       "      <td>adam</td>\n",
       "      <td>0.8947</td>\n",
       "      <td>0.893</td>\n",
       "    </tr>\n",
       "    <tr>\n",
       "      <th>14</th>\n",
       "      <td>0.010000</td>\n",
       "      <td>sgd</td>\n",
       "      <td>0.999983</td>\n",
       "      <td>0.981</td>\n",
       "    </tr>\n",
       "    <tr>\n",
       "      <th>15</th>\n",
       "      <td>0.100000</td>\n",
       "      <td>lbfgs</td>\n",
       "      <td>1</td>\n",
       "      <td>0.9757</td>\n",
       "    </tr>\n",
       "    <tr>\n",
       "      <th>16</th>\n",
       "      <td>0.100000</td>\n",
       "      <td>adam</td>\n",
       "      <td>0.889267</td>\n",
       "      <td>0.8878</td>\n",
       "    </tr>\n",
       "    <tr>\n",
       "      <th>17</th>\n",
       "      <td>0.100000</td>\n",
       "      <td>sgd</td>\n",
       "      <td>0.9908</td>\n",
       "      <td>0.9777</td>\n",
       "    </tr>\n",
       "  </tbody>\n",
       "</table>\n",
       "</div>"
      ],
      "text/plain": [
       "       alpha solver train_acc test_acc\n",
       "0   0.000001  lbfgs         1   0.9766\n",
       "1   0.000001   adam  0.901017   0.9009\n",
       "2   0.000001    sgd         1   0.9792\n",
       "3   0.000010  lbfgs         1   0.9765\n",
       "4   0.000010   adam    0.8722   0.8724\n",
       "5   0.000010    sgd         1    0.979\n",
       "6   0.000100  lbfgs         1   0.9763\n",
       "7   0.000100   adam   0.90065   0.8956\n",
       "8   0.000100    sgd         1   0.9797\n",
       "9   0.001000  lbfgs         1   0.9764\n",
       "10  0.001000   adam  0.901183    0.903\n",
       "11  0.001000    sgd         1   0.9794\n",
       "12  0.010000  lbfgs         1   0.9771\n",
       "13  0.010000   adam    0.8947    0.893\n",
       "14  0.010000    sgd  0.999983    0.981\n",
       "15  0.100000  lbfgs         1   0.9757\n",
       "16  0.100000   adam  0.889267   0.8878\n",
       "17  0.100000    sgd    0.9908   0.9777"
      ]
     },
     "execution_count": 6,
     "metadata": {},
     "output_type": "execute_result"
    }
   ],
   "source": [
    "model.df"
   ]
  },
  {
   "cell_type": "markdown",
   "metadata": {},
   "source": [
    "The set of parameters at index 0 and index 1 show overfitting and underfitting respectively. The best set of parameters is produced at the index 14 with alpha=0.01 and solver='sgd'. This produces training and testing accuracies of 0.999 and 0.981 respectively. These parameters tend to strike a balance between overfitting and underfitting, thus producing a reliable performance. Hence, these parameters will be used with different values of nodes in the hidden layer in part B."
   ]
  },
  {
   "cell_type": "markdown",
   "metadata": {},
   "source": [
    "### Part B: Using alpha=0.01 and solver='sgd' with different number of nodes in the hidden layer"
   ]
  },
  {
   "cell_type": "code",
   "execution_count": 82,
   "metadata": {
    "collapsed": true
   },
   "outputs": [],
   "source": [
    "nodes = [1, 10, 100, 200, 300, 400, 500, 600, 700, 785, 1000, 2000]"
   ]
  },
  {
   "cell_type": "code",
   "execution_count": 83,
   "metadata": {
    "collapsed": true
   },
   "outputs": [],
   "source": [
    "model_2 = Model(util.train/255, util.train_label, util.test/255, util.test_label, live=False)\n",
    "model_2.mlp_2(nodes, 0.01, 'sgd')"
   ]
  },
  {
   "cell_type": "code",
   "execution_count": 84,
   "metadata": {},
   "outputs": [
    {
     "data": {
      "text/html": [
       "<div>\n",
       "<style>\n",
       "    .dataframe thead tr:only-child th {\n",
       "        text-align: right;\n",
       "    }\n",
       "\n",
       "    .dataframe thead th {\n",
       "        text-align: left;\n",
       "    }\n",
       "\n",
       "    .dataframe tbody tr th {\n",
       "        vertical-align: top;\n",
       "    }\n",
       "</style>\n",
       "<table border=\"1\" class=\"dataframe\">\n",
       "  <thead>\n",
       "    <tr style=\"text-align: right;\">\n",
       "      <th></th>\n",
       "      <th>nodes</th>\n",
       "      <th>test_acc</th>\n",
       "    </tr>\n",
       "  </thead>\n",
       "  <tbody>\n",
       "    <tr>\n",
       "      <th>0</th>\n",
       "      <td>1</td>\n",
       "      <td>0.1135</td>\n",
       "    </tr>\n",
       "    <tr>\n",
       "      <th>1</th>\n",
       "      <td>10</td>\n",
       "      <td>0.923</td>\n",
       "    </tr>\n",
       "    <tr>\n",
       "      <th>2</th>\n",
       "      <td>100</td>\n",
       "      <td>0.981</td>\n",
       "    </tr>\n",
       "    <tr>\n",
       "      <th>3</th>\n",
       "      <td>200</td>\n",
       "      <td>0.982</td>\n",
       "    </tr>\n",
       "    <tr>\n",
       "      <th>4</th>\n",
       "      <td>300</td>\n",
       "      <td>0.983</td>\n",
       "    </tr>\n",
       "    <tr>\n",
       "      <th>5</th>\n",
       "      <td>400</td>\n",
       "      <td>0.9837</td>\n",
       "    </tr>\n",
       "    <tr>\n",
       "      <th>6</th>\n",
       "      <td>500</td>\n",
       "      <td>0.9836</td>\n",
       "    </tr>\n",
       "    <tr>\n",
       "      <th>7</th>\n",
       "      <td>600</td>\n",
       "      <td>0.9848</td>\n",
       "    </tr>\n",
       "    <tr>\n",
       "      <th>8</th>\n",
       "      <td>700</td>\n",
       "      <td>0.9837</td>\n",
       "    </tr>\n",
       "    <tr>\n",
       "      <th>9</th>\n",
       "      <td>785</td>\n",
       "      <td>0.9847</td>\n",
       "    </tr>\n",
       "    <tr>\n",
       "      <th>10</th>\n",
       "      <td>1000</td>\n",
       "      <td>0.9844</td>\n",
       "    </tr>\n",
       "    <tr>\n",
       "      <th>11</th>\n",
       "      <td>2000</td>\n",
       "      <td>0.9845</td>\n",
       "    </tr>\n",
       "  </tbody>\n",
       "</table>\n",
       "</div>"
      ],
      "text/plain": [
       "    nodes test_acc\n",
       "0       1   0.1135\n",
       "1      10    0.923\n",
       "2     100    0.981\n",
       "3     200    0.982\n",
       "4     300    0.983\n",
       "5     400   0.9837\n",
       "6     500   0.9836\n",
       "7     600   0.9848\n",
       "8     700   0.9837\n",
       "9     785   0.9847\n",
       "10   1000   0.9844\n",
       "11   2000   0.9845"
      ]
     },
     "execution_count": 84,
     "metadata": {},
     "output_type": "execute_result"
    }
   ],
   "source": [
    "test_acc_2 = model_2.df['test_acc']\n",
    "df = pd.DataFrame(index=range(len(nodes)), columns=['nodes', 'test_acc'])\n",
    "df['nodes'], df['test_acc'] = nodes, test_acc_2\n",
    "df"
   ]
  },
  {
   "cell_type": "markdown",
   "metadata": {},
   "source": [
    "The optimal testing accuracy is at nodes=600 with an accuracy of 0.9848, the testing accuracy seems to be relatively similar for nodes between 100 & 2000."
   ]
  },
  {
   "cell_type": "code",
   "execution_count": 120,
   "metadata": {},
   "outputs": [
    {
     "data": {
      "image/png": "[encoded data removed]",
      "text/plain": [
       "<matplotlib.figure.Figure at 0x1d71b5363c8>"
      ]
     },
     "metadata": {},
     "output_type": "display_data"
    }
   ],
   "source": [
    "Utility.plot(nodes, list(test_acc_2), 'no. of nodes', 'Test Accuracy', 'Number of nodes vs. Test Accuracy', xtick=True)"
   ]
  },
  {
   "cell_type": "markdown",
   "metadata": {},
   "source": [
    "### Part C: Performance of MLP against KNN, Naive Bayes, Logistic Regression & SVM"
   ]
  },
  {
   "cell_type": "code",
   "execution_count": 122,
   "metadata": {},
   "outputs": [
    {
     "data": {
      "text/html": [
       "<div>\n",
       "<style>\n",
       "    .dataframe thead tr:only-child th {\n",
       "        text-align: right;\n",
       "    }\n",
       "\n",
       "    .dataframe thead th {\n",
       "        text-align: left;\n",
       "    }\n",
       "\n",
       "    .dataframe tbody tr th {\n",
       "        vertical-align: top;\n",
       "    }\n",
       "</style>\n",
       "<table border=\"1\" class=\"dataframe\">\n",
       "  <thead>\n",
       "    <tr style=\"text-align: right;\">\n",
       "      <th></th>\n",
       "      <th>Classifier</th>\n",
       "      <th>Test Accuracy</th>\n",
       "    </tr>\n",
       "  </thead>\n",
       "  <tbody>\n",
       "    <tr>\n",
       "      <th>0</th>\n",
       "      <td>KNN with 85% variance explained</td>\n",
       "      <td>0.9752</td>\n",
       "    </tr>\n",
       "    <tr>\n",
       "      <th>1</th>\n",
       "      <td>Naive Bayes</td>\n",
       "      <td>0.8149</td>\n",
       "    </tr>\n",
       "    <tr>\n",
       "      <th>2</th>\n",
       "      <td>Logistic Regression</td>\n",
       "      <td>0.9107</td>\n",
       "    </tr>\n",
       "    <tr>\n",
       "      <th>3</th>\n",
       "      <td>SVM Radial</td>\n",
       "      <td>0.9826</td>\n",
       "    </tr>\n",
       "    <tr>\n",
       "      <th>4</th>\n",
       "      <td>Multilayer Perceptron</td>\n",
       "      <td>0.9848</td>\n",
       "    </tr>\n",
       "  </tbody>\n",
       "</table>\n",
       "</div>"
      ],
      "text/plain": [
       "                        Classifier  Test Accuracy\n",
       "0  KNN with 85% variance explained         0.9752\n",
       "1                      Naive Bayes         0.8149\n",
       "2              Logistic Regression         0.9107\n",
       "3                       SVM Radial         0.9826\n",
       "4            Multilayer Perceptron         0.9848"
      ]
     },
     "execution_count": 122,
     "metadata": {},
     "output_type": "execute_result"
    }
   ],
   "source": [
    "models_test_acc = {'Classifier': ['KNN with 85% variance explained','Naive Bayes', 'Logistic Regression', 'SVM Radial', \n",
    "                             'Multilayer Perceptron'], 'Test Accuracy': [0.9752, 0.8149, 0.9107, 0.9826, 0.9848]}\n",
    "df_1 = pd.DataFrame(models_test_acc, columns=['Classifier', 'Test Accuracy'])\n",
    "df_1"
   ]
  },
  {
   "cell_type": "markdown",
   "metadata": {},
   "source": [
    "The table above shows that the MLP performs better than the other models. SVM radial posses a close challenge, however, its training time is far higher than that of MLP.\n",
    "\n",
    "The training time of the MLP classifier with the best set of parameters is 383 seconds. MLP is the fastest classifier of all the five classifiers, and it also gave the best accuracy on the testing set."
   ]
  },
  {
   "cell_type": "code",
   "execution_count": 119,
   "metadata": {},
   "outputs": [
    {
     "data": {
      "image/png": "[encoded data removed]",
      "text/plain": [
       "<matplotlib.figure.Figure at 0x1d73c4ce908>"
      ]
     },
     "metadata": {},
     "output_type": "display_data"
    }
   ],
   "source": [
    "Utility.plot(nodes, model_2.time, 'no. of nodes', 'Training Time (seconds)', 'Number of nodes vs. Training Time', xtick=True)"
   ]
  },
  {
   "cell_type": "markdown",
   "metadata": {},
   "source": [
    "This shows that the training time increases as the number of nodes in the hidden layer increase."
   ]
  },
  {
   "cell_type": "markdown",
   "metadata": {
    "collapsed": true
   },
   "source": [
    "#### References:"
   ]
  },
  {
   "cell_type": "markdown",
   "metadata": {},
   "source": [
    "[1] http://scikit-learn.org/stable/modules/neural_networks_supervised.html\n",
    "\n",
    "[2] http://scikit-learn.org/stable/modules/generated/sklearn.neural_network.MLPClassifier.html\n"
   ]
  }
 ],
 "metadata": {
  "kernelspec": {
   "display_name": "Python 3",
   "language": "python",
   "name": "python3"
  },
  "language_info": {
   "codemirror_mode": {
    "name": "ipython",
    "version": 3
   },
   "file_extension": ".py",
   "mimetype": "text/x-python",
   "name": "python",
   "nbconvert_exporter": "python",
   "pygments_lexer": "ipython3",
   "version": "3.6.1"
  }
 },
 "nbformat": 4,
 "nbformat_minor": 2
}
